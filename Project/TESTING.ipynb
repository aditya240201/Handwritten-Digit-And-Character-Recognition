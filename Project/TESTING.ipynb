{
 "cells": [
  {
   "cell_type": "code",
   "execution_count": 1,
   "id": "47502f58",
   "metadata": {},
   "outputs": [],
   "source": [
    "import tensorflow as tf\n",
    "import numpy as np\n",
    "import cv2\n",
    "import matplotlib              \n",
    "import matplotlib.pyplot as plt\n",
    "%matplotlib inline\n",
    "\n",
    "#importing mnist database\n",
    "mnist =tf.keras.datasets.mnist\n",
    "(x_train, y_train),(x_test,y_test) = mnist.load_data()\n",
    "\n",
    "#Loading our saved model for testing.\n",
    "from tensorflow.keras.models import load_model  \n",
    "model=load_model('saved_model')"
   ]
  },
  {
   "cell_type": "markdown",
   "id": "63bae34f",
   "metadata": {},
   "source": [
    "# Explanation of the testing process"
   ]
  },
  {
   "cell_type": "code",
   "execution_count": 2,
   "id": "3b5c76eb",
   "metadata": {},
   "outputs": [
    {
     "data": {
      "text/plain": [
       "<matplotlib.image.AxesImage at 0x1dc4eba8eb0>"
      ]
     },
     "execution_count": 2,
     "metadata": {},
     "output_type": "execute_result"
    },
    {
     "data": {
      "image/png": "[encoded data removed]",
      "text/plain": [
       "<Figure size 432x288 with 1 Axes>"
      ]
     },
     "metadata": {
      "needs_background": "light"
     },
     "output_type": "display_data"
    }
   ],
   "source": [
    "img=cv2.imread('test_sample/model_testing_#1.png')                 #reading the image input\n",
    "plt.imshow(img)"
   ]
  },
  {
   "cell_type": "code",
   "execution_count": 3,
   "id": "faf4ba21",
   "metadata": {},
   "outputs": [
    {
     "data": {
      "text/plain": [
       "<matplotlib.image.AxesImage at 0x1dc505527c0>"
      ]
     },
     "execution_count": 3,
     "metadata": {},
     "output_type": "execute_result"
    },
    {
     "data": {
      "image/png": "[encoded data removed]",
      "text/plain": [
       "<Figure size 432x288 with 1 Axes>"
      ]
     },
     "metadata": {
      "needs_background": "light"
     },
     "output_type": "display_data"
    }
   ],
   "source": [
    "gray=cv2.cvtColor(img,cv2.COLOR_BGR2GRAY)                         #converting the image to gray scale\n",
    "plt.imshow(gray)"
   ]
  },
  {
   "cell_type": "code",
   "execution_count": 4,
   "id": "c80e2afa",
   "metadata": {},
   "outputs": [
    {
     "data": {
      "text/plain": [
       "<matplotlib.image.AxesImage at 0x1dc4af7f370>"
      ]
     },
     "execution_count": 4,
     "metadata": {},
     "output_type": "execute_result"
    },
    {
     "data": {
      "image/png": "[encoded data removed]",
      "text/plain": [
       "<Figure size 432x288 with 1 Axes>"
      ]
     },
     "metadata": {
      "needs_background": "light"
     },
     "output_type": "display_data"
    }
   ],
   "source": [
    "resized = cv2.resize(gray,(28,28),interpolation=cv2.INTER_AREA)   #resizing our image for using convolution.\n",
    "plt.imshow(resized)"
   ]
  },
  {
   "cell_type": "code",
   "execution_count": 5,
   "id": "b1c62a9b",
   "metadata": {},
   "outputs": [
    {
     "data": {
      "text/plain": [
       "<matplotlib.image.AxesImage at 0x1dc4ea31700>"
      ]
     },
     "execution_count": 5,
     "metadata": {},
     "output_type": "execute_result"
    },
    {
     "data": {
      "image/png": "[encoded data removed]",
      "text/plain": [
       "<Figure size 432x288 with 1 Axes>"
      ]
     },
     "metadata": {
      "needs_background": "light"
     },
     "output_type": "display_data"
    }
   ],
   "source": [
    "newimg=tf.keras.utils.normalize(resized)                          #normalizing the data.\n",
    "plt.imshow(newimg)"
   ]
  },
  {
   "cell_type": "code",
   "execution_count": 6,
   "id": "f12812d1",
   "metadata": {},
   "outputs": [
    {
     "data": {
      "text/plain": [
       "(1, 28, 28, 1)"
      ]
     },
     "execution_count": 6,
     "metadata": {},
     "output_type": "execute_result"
    }
   ],
   "source": [
    "newimg=np.array(newimg).reshape(-1,28,28,1)                      #kernal operation for convolution layer.\n",
    "newimg.shape                                                     #displaying the shape of resultent image."
   ]
  },
  {
   "cell_type": "code",
   "execution_count": 7,
   "id": "7c09421c",
   "metadata": {},
   "outputs": [
    {
     "name": "stdout",
     "output_type": "stream",
     "text": [
      "models prediction is: 1\n"
     ]
    }
   ],
   "source": [
    "predictions=model.predict(newimg) \n",
    "print(\"models prediction is:\",np.argmax(predictions))            #displaying the model's prediction for our image. "
   ]
  },
  {
   "cell_type": "markdown",
   "id": "c6341300",
   "metadata": {},
   "source": [
    "#  Cheking the input image and Pridicting the result [TESTING]"
   ]
  },
  {
   "cell_type": "code",
   "execution_count": 8,
   "id": "18a42e3f",
   "metadata": {},
   "outputs": [],
   "source": [
    "#importing the function from python  file for testing.\n",
    "from testing_function import get_prediction"
   ]
  },
  {
   "cell_type": "markdown",
   "id": "0788438a",
   "metadata": {},
   "source": [
    "## #>Testing on MNIST database images:"
   ]
  },
  {
   "cell_type": "markdown",
   "id": "3af0f6ee",
   "metadata": {},
   "source": [
    "### Test_Case #1"
   ]
  },
  {
   "cell_type": "code",
   "execution_count": 9,
   "id": "fd1cf8df",
   "metadata": {},
   "outputs": [
    {
     "data": {
      "image/png": "[encoded data removed]",
      "text/plain": [
       "<Figure size 432x288 with 1 Axes>"
      ]
     },
     "metadata": {
      "needs_background": "light"
     },
     "output_type": "display_data"
    },
    {
     "name": "stdout",
     "output_type": "stream",
     "text": [
      "Digit in the image[according to model] is: 3\n"
     ]
    },
    {
     "data": {
      "text/plain": [
       "(<matplotlib.image.AxesImage at 0x1dc520671c0>,\n",
       " Text(0.5, 1.0, 'Original Image'),\n",
       " None,\n",
       " None)"
      ]
     },
     "execution_count": 9,
     "metadata": {},
     "output_type": "execute_result"
    }
   ],
   "source": [
    "image=x_train[59001]\n",
    "get_prediction(image)"
   ]
  },
  {
   "cell_type": "markdown",
   "id": "99861ab0",
   "metadata": {},
   "source": [
    "### Test_Case #2"
   ]
  },
  {
   "cell_type": "code",
   "execution_count": 10,
   "id": "618610e0",
   "metadata": {},
   "outputs": [
    {
     "data": {
      "image/png": "[encoded data removed]",
      "text/plain": [
       "<Figure size 432x288 with 1 Axes>"
      ]
     },
     "metadata": {
      "needs_background": "light"
     },
     "output_type": "display_data"
    },
    {
     "name": "stdout",
     "output_type": "stream",
     "text": [
      "Digit in the image[according to model] is: 0\n"
     ]
    },
    {
     "data": {
      "text/plain": [
       "(<matplotlib.image.AxesImage at 0x1dc4afd45e0>,\n",
       " Text(0.5, 1.0, 'Original Image'),\n",
       " None,\n",
       " None)"
      ]
     },
     "execution_count": 10,
     "metadata": {},
     "output_type": "execute_result"
    }
   ],
   "source": [
    "image=x_train[1]\n",
    "get_prediction(image)"
   ]
  },
  {
   "cell_type": "markdown",
   "id": "4f7e2f4d",
   "metadata": {},
   "source": [
    "### Test_Case #3"
   ]
  },
  {
   "cell_type": "code",
   "execution_count": 11,
   "id": "369a03c3",
   "metadata": {},
   "outputs": [
    {
     "data": {
      "image/png": "[encoded data removed]",
      "text/plain": [
       "<Figure size 432x288 with 1 Axes>"
      ]
     },
     "metadata": {
      "needs_background": "light"
     },
     "output_type": "display_data"
    },
    {
     "name": "stdout",
     "output_type": "stream",
     "text": [
      "Digit in the image[according to model] is: 1\n"
     ]
    },
    {
     "data": {
      "text/plain": [
       "(<matplotlib.image.AxesImage at 0x1dc5204b160>,\n",
       " Text(0.5, 1.0, 'Original Image'),\n",
       " None,\n",
       " None)"
      ]
     },
     "execution_count": 11,
     "metadata": {},
     "output_type": "execute_result"
    }
   ],
   "source": [
    "image=x_train[128]\n",
    "get_prediction(image)"
   ]
  },
  {
   "cell_type": "markdown",
   "id": "39b27eff",
   "metadata": {},
   "source": [
    "## #>Testing on real life images:"
   ]
  },
  {
   "cell_type": "markdown",
   "id": "752244c0",
   "metadata": {},
   "source": [
    "### Test_Case #1"
   ]
  },
  {
   "cell_type": "code",
   "execution_count": 12,
   "id": "3cd8a74c",
   "metadata": {},
   "outputs": [
    {
     "data": {
      "image/png": "[encoded data removed]",
      "text/plain": [
       "<Figure size 432x288 with 1 Axes>"
      ]
     },
     "metadata": {
      "needs_background": "light"
     },
     "output_type": "display_data"
    },
    {
     "name": "stdout",
     "output_type": "stream",
     "text": [
      "Digit in the image[according to model] is: 6\n"
     ]
    },
    {
     "data": {
      "text/plain": [
       "(<matplotlib.image.AxesImage at 0x1dc520a4b20>,\n",
       " Text(0.5, 1.0, 'Original Image'),\n",
       " None,\n",
       " None)"
      ]
     },
     "execution_count": 12,
     "metadata": {},
     "output_type": "execute_result"
    }
   ],
   "source": [
    "#predicting the digit from our model\n",
    "image='test_sample/model_testing_#6.jpg'\n",
    "get_prediction(image)"
   ]
  },
  {
   "cell_type": "markdown",
   "id": "9d5f14f0",
   "metadata": {},
   "source": [
    "### Test_Case #2"
   ]
  },
  {
   "cell_type": "code",
   "execution_count": 13,
   "id": "fff2e510",
   "metadata": {},
   "outputs": [
    {
     "data": {
      "image/png": "[encoded data removed]",
      "text/plain": [
       "<Figure size 432x288 with 1 Axes>"
      ]
     },
     "metadata": {
      "needs_background": "light"
     },
     "output_type": "display_data"
    },
    {
     "name": "stdout",
     "output_type": "stream",
     "text": [
      "Digit in the image[according to model] is: 8\n"
     ]
    },
    {
     "data": {
      "text/plain": [
       "(<matplotlib.image.AxesImage at 0x1dc4e4b35b0>,\n",
       " Text(0.5, 1.0, 'Original Image'),\n",
       " None,\n",
       " None)"
      ]
     },
     "execution_count": 13,
     "metadata": {},
     "output_type": "execute_result"
    }
   ],
   "source": [
    "#predicting the digit from our model\n",
    "image='test_sample/model_testing_#8.png'\n",
    "get_prediction(image)"
   ]
  },
  {
   "cell_type": "markdown",
   "id": "f196f93d",
   "metadata": {},
   "source": [
    "### Test_Case #3"
   ]
  },
  {
   "cell_type": "code",
   "execution_count": 14,
   "id": "b0a18047",
   "metadata": {},
   "outputs": [
    {
     "data": {
      "image/png": "[encoded data removed]",
      "text/plain": [
       "<Figure size 432x288 with 1 Axes>"
      ]
     },
     "metadata": {
      "needs_background": "light"
     },
     "output_type": "display_data"
    },
    {
     "name": "stdout",
     "output_type": "stream",
     "text": [
      "Digit in the image[according to model] is: 6\n"
     ]
    },
    {
     "data": {
      "text/plain": [
       "(<matplotlib.image.AxesImage at 0x1dc53bbee20>,\n",
       " Text(0.5, 1.0, 'Original Image'),\n",
       " None,\n",
       " None)"
      ]
     },
     "execution_count": 14,
     "metadata": {},
     "output_type": "execute_result"
    }
   ],
   "source": [
    "#predicting the digit from our model\n",
    "image='test_sample/model_testing_#2.jpg'\n",
    "get_prediction(image)"
   ]
  },
  {
   "cell_type": "markdown",
   "id": "2eb60e8d",
   "metadata": {},
   "source": [
    "## `****** Model is also working fine for real time rgb images of digits ******`"
   ]
  }
 ],
 "metadata": {
  "kernelspec": {
   "display_name": "Python 3",
   "language": "python",
   "name": "python3"
  },
  "language_info": {
   "codemirror_mode": {
    "name": "ipython",
    "version": 3
   },
   "file_extension": ".py",
   "mimetype": "text/x-python",
   "name": "python",
   "nbconvert_exporter": "python",
   "pygments_lexer": "ipython3",
   "version": "3.8.8"
  }
 },
 "nbformat": 4,
 "nbformat_minor": 5
}
